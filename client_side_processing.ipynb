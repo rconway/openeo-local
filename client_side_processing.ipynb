{
 "cells": [
  {
   "cell_type": "markdown",
   "id": "0baf2c53-54bd-49fe-9103-605c50d67e53",
   "metadata": {},
   "source": [
    "## STAC Collections and Items"
   ]
  },
  {
   "cell_type": "code",
   "execution_count": null,
   "id": "37e02b9c-328e-42c9-a438-0492103a9f7a",
   "metadata": {},
   "outputs": [],
   "source": [
    "from openeo.local import LocalConnection\n",
    "local_conn = LocalConnection(\"./\")\n",
    "\n",
    "url = \"https://earth-search.aws.element84.com/v1/collections/sentinel-2-l2a\"\n",
    "spatial_extent = {\"west\": 11, \"east\": 12, \"south\": 46, \"north\": 47}\n",
    "temporal_extent = [\"2019-01-01\", \"2019-06-15\"]\n",
    "bands = [\"red\"]\n",
    "properties = {\"eo:cloud_cover\": dict(lt=50)}\n",
    "s2_cube = local_conn.load_stac(url=url,\n",
    "    spatial_extent=spatial_extent,\n",
    "    temporal_extent=temporal_extent,\n",
    "    bands=bands,\n",
    "    properties=properties,\n",
    ")\n",
    "s2_cube.execute()"
   ]
  },
  {
   "cell_type": "markdown",
   "id": "1728fe8c-b42f-4c6a-83cd-d75ffcfb74a2",
   "metadata": {},
   "source": [
    "## Local Collections"
   ]
  },
  {
   "cell_type": "code",
   "execution_count": null,
   "id": "cab6c6cf-7a96-4348-91a8-68d88c445b9a",
   "metadata": {
    "scrolled": true
   },
   "outputs": [],
   "source": [
    "from openeo.local import LocalConnection\n",
    "local_data_folders = [\n",
    "   \"./openeo-localprocessing-data/sample_netcdf\",\n",
    "   \"./openeo-localprocessing-data/sample_geotiff\",\n",
    "]\n",
    "local_conn = LocalConnection(local_data_folders)\n",
    "local_conn.list_collections()"
   ]
  },
  {
   "cell_type": "markdown",
   "id": "7e4eae33-301c-4f67-a2c1-b361cfa3873f",
   "metadata": {},
   "source": [
    "## Local Processing"
   ]
  },
  {
   "cell_type": "code",
   "execution_count": null,
   "id": "a0966a7e-0bab-49fe-aa86-facccb7f6c40",
   "metadata": {},
   "outputs": [],
   "source": [
    "local_collection = \"openeo-localprocessing-data/sample_netcdf/S2_L2A_sample.nc\"\n",
    "s2_datacube = local_conn.load_collection(local_collection)"
   ]
  },
  {
   "cell_type": "code",
   "execution_count": null,
   "id": "d1eee1c2-6bfc-451b-a022-10a66a801bb7",
   "metadata": {},
   "outputs": [],
   "source": [
    "b04 = s2_datacube.band(\"B04\")\n",
    "b08 = s2_datacube.band(\"B08\")\n",
    "ndvi = (b08 - b04) / (b08 + b04)\n",
    "ndvi_median = ndvi.reduce_dimension(dimension=\"t\", reducer=\"median\")\n",
    "result_ndvi = ndvi_median.execute()\n",
    "result_ndvi.plot.imshow(cmap=\"Greens\")"
   ]
  },
  {
   "cell_type": "markdown",
   "id": "ef6e4708-4e2b-4de1-982c-be1ca369a15b",
   "metadata": {},
   "source": [
    "## Process STAC Collection"
   ]
  },
  {
   "cell_type": "code",
   "execution_count": null,
   "id": "44d92468-1f31-4035-93ab-984990777e7c",
   "metadata": {},
   "outputs": [],
   "source": [
    "from openeo.local import LocalConnection\n",
    "local_conn = LocalConnection(\"./\")\n",
    "\n",
    "url = \"https://earth-search.aws.element84.com/v1/collections/sentinel-2-l2a\"\n",
    "spatial_extent =  {\"east\": 11.40, \"north\": 46.52, \"south\": 46.46, \"west\": 11.25}\n",
    "temporal_extent = [\"2022-06-01\", \"2022-06-30\"]\n",
    "bands = [\"red\", \"nir\"]\n",
    "properties = {\"eo:cloud_cover\": dict(lt=80)}\n",
    "s2_datacube = local_conn.load_stac(\n",
    "    url=url,\n",
    "    spatial_extent=spatial_extent,\n",
    "    temporal_extent=temporal_extent,\n",
    "    bands=bands,\n",
    "    properties=properties,\n",
    ")\n",
    "\n",
    "b04 = s2_datacube.band(\"red\")\n",
    "b08 = s2_datacube.band(\"nir\")\n",
    "ndvi = (b08 - b04) / (b08 + b04)\n",
    "ndvi_median = ndvi.reduce_dimension(dimension=\"time\", reducer=\"median\")\n",
    "result_ndvi = ndvi_median.execute()\n",
    "result_ndvi"
   ]
  }
 ],
 "metadata": {
  "kernelspec": {
   "display_name": "Python 3 (ipykernel)",
   "language": "python",
   "name": "python3"
  },
  "language_info": {
   "codemirror_mode": {
    "name": "ipython",
    "version": 3
   },
   "file_extension": ".py",
   "mimetype": "text/x-python",
   "name": "python",
   "nbconvert_exporter": "python",
   "pygments_lexer": "ipython3",
   "version": "3.9.23"
  }
 },
 "nbformat": 4,
 "nbformat_minor": 5
}
